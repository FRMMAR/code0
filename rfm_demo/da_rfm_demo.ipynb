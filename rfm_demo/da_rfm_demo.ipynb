{
 "cells": [
  {
   "cell_type": "code",
   "execution_count": 1,
   "metadata": {},
   "outputs": [],
   "source": [
    "import os\n",
    "os.chdir(r'C:\\Users\\m\\Downloads\\ds\\进阶-K-Means聚类分析\\公开课-案例：客户价值分析')"
   ]
  },
  {
   "cell_type": "code",
   "execution_count": 2,
   "metadata": {},
   "outputs": [
    {
     "data": {
      "text/plain": [
       "'C:\\\\Users\\\\m\\\\Downloads\\\\ds\\\\进阶-K-Means聚类分析\\\\公开课-案例：客户价值分析'"
      ]
     },
     "execution_count": 2,
     "metadata": {},
     "output_type": "execute_result"
    }
   ],
   "source": [
    "os.getcwd()"
   ]
  },
  {
   "cell_type": "code",
   "execution_count": 3,
   "metadata": {
    "scrolled": true
   },
   "outputs": [],
   "source": [
    "import pandas as pd\n",
    "data = pd.read_excel(r'RFM聚类分析【样本数据】.xlsx',index_col=0)"
   ]
  },
  {
   "cell_type": "code",
   "execution_count": 4,
   "metadata": {},
   "outputs": [
    {
     "data": {
      "text/html": [
       "<div>\n",
       "<style scoped>\n",
       "    .dataframe tbody tr th:only-of-type {\n",
       "        vertical-align: middle;\n",
       "    }\n",
       "\n",
       "    .dataframe tbody tr th {\n",
       "        vertical-align: top;\n",
       "    }\n",
       "\n",
       "    .dataframe thead th {\n",
       "        text-align: right;\n",
       "    }\n",
       "</style>\n",
       "<table border=\"1\" class=\"dataframe\">\n",
       "  <thead>\n",
       "    <tr style=\"text-align: right;\">\n",
       "      <th></th>\n",
       "      <th>首次投资时间</th>\n",
       "      <th>最近一次投资时间</th>\n",
       "      <th>总计投资总金额</th>\n",
       "      <th>总计投标总次数</th>\n",
       "    </tr>\n",
       "    <tr>\n",
       "      <th>用户编码</th>\n",
       "      <th></th>\n",
       "      <th></th>\n",
       "      <th></th>\n",
       "      <th></th>\n",
       "    </tr>\n",
       "  </thead>\n",
       "  <tbody>\n",
       "    <tr>\n",
       "      <td>45B3CCE7-957B-4D54-9626-6D62731D119B</td>\n",
       "      <td>2016-06-25</td>\n",
       "      <td>2016-06-26</td>\n",
       "      <td>20000.0</td>\n",
       "      <td>3</td>\n",
       "    </tr>\n",
       "    <tr>\n",
       "      <td>9921C535-75FC-4695-8551-32B8D717B4A5</td>\n",
       "      <td>2016-06-26</td>\n",
       "      <td>2016-06-26</td>\n",
       "      <td>50000.0</td>\n",
       "      <td>3</td>\n",
       "    </tr>\n",
       "    <tr>\n",
       "      <td>2F00D4E3-CC7D-4DB1-B210-6F095156C5B8</td>\n",
       "      <td>2016-06-13</td>\n",
       "      <td>2016-06-19</td>\n",
       "      <td>108000.0</td>\n",
       "      <td>4</td>\n",
       "    </tr>\n",
       "    <tr>\n",
       "      <td>150218D8-BF32-406D-A3A8-8A19CB1E85AA</td>\n",
       "      <td>2016-06-16</td>\n",
       "      <td>2016-06-16</td>\n",
       "      <td>30000.0</td>\n",
       "      <td>3</td>\n",
       "    </tr>\n",
       "    <tr>\n",
       "      <td>98C26D4A-708F-4334-B3D7-EDAE9FD240C8</td>\n",
       "      <td>2016-06-27</td>\n",
       "      <td>2016-06-27</td>\n",
       "      <td>100000.0</td>\n",
       "      <td>3</td>\n",
       "    </tr>\n",
       "  </tbody>\n",
       "</table>\n",
       "</div>"
      ],
      "text/plain": [
       "                                         首次投资时间   最近一次投资时间   总计投资总金额  总计投标总次数\n",
       "用户编码                                                                         \n",
       "45B3CCE7-957B-4D54-9626-6D62731D119B 2016-06-25 2016-06-26   20000.0        3\n",
       "9921C535-75FC-4695-8551-32B8D717B4A5 2016-06-26 2016-06-26   50000.0        3\n",
       "2F00D4E3-CC7D-4DB1-B210-6F095156C5B8 2016-06-13 2016-06-19  108000.0        4\n",
       "150218D8-BF32-406D-A3A8-8A19CB1E85AA 2016-06-16 2016-06-16   30000.0        3\n",
       "98C26D4A-708F-4334-B3D7-EDAE9FD240C8 2016-06-27 2016-06-27  100000.0        3"
      ]
     },
     "execution_count": 4,
     "metadata": {},
     "output_type": "execute_result"
    }
   ],
   "source": [
    "data.head()"
   ]
  },
  {
   "cell_type": "code",
   "execution_count": 5,
   "metadata": {},
   "outputs": [
    {
     "data": {
      "text/html": [
       "<div>\n",
       "<style scoped>\n",
       "    .dataframe tbody tr th:only-of-type {\n",
       "        vertical-align: middle;\n",
       "    }\n",
       "\n",
       "    .dataframe tbody tr th {\n",
       "        vertical-align: top;\n",
       "    }\n",
       "\n",
       "    .dataframe thead th {\n",
       "        text-align: right;\n",
       "    }\n",
       "</style>\n",
       "<table border=\"1\" class=\"dataframe\">\n",
       "  <thead>\n",
       "    <tr style=\"text-align: right;\">\n",
       "      <th></th>\n",
       "      <th>首次投资时间</th>\n",
       "      <th>最近一次投资时间</th>\n",
       "      <th>总计投资总金额</th>\n",
       "      <th>总计投标总次数</th>\n",
       "    </tr>\n",
       "  </thead>\n",
       "  <tbody>\n",
       "    <tr>\n",
       "      <td>count</td>\n",
       "      <td>200</td>\n",
       "      <td>200</td>\n",
       "      <td>200.000000</td>\n",
       "      <td>200.00000</td>\n",
       "    </tr>\n",
       "    <tr>\n",
       "      <td>unique</td>\n",
       "      <td>24</td>\n",
       "      <td>38</td>\n",
       "      <td>NaN</td>\n",
       "      <td>NaN</td>\n",
       "    </tr>\n",
       "    <tr>\n",
       "      <td>top</td>\n",
       "      <td>2016-06-22 00:00:00</td>\n",
       "      <td>2016-06-25 00:00:00</td>\n",
       "      <td>NaN</td>\n",
       "      <td>NaN</td>\n",
       "    </tr>\n",
       "    <tr>\n",
       "      <td>freq</td>\n",
       "      <td>20</td>\n",
       "      <td>25</td>\n",
       "      <td>NaN</td>\n",
       "      <td>NaN</td>\n",
       "    </tr>\n",
       "    <tr>\n",
       "      <td>first</td>\n",
       "      <td>2016-06-06 00:00:00</td>\n",
       "      <td>2016-06-06 00:00:00</td>\n",
       "      <td>NaN</td>\n",
       "      <td>NaN</td>\n",
       "    </tr>\n",
       "    <tr>\n",
       "      <td>last</td>\n",
       "      <td>2016-06-29 00:00:00</td>\n",
       "      <td>2016-07-18 00:00:00</td>\n",
       "      <td>NaN</td>\n",
       "      <td>NaN</td>\n",
       "    </tr>\n",
       "    <tr>\n",
       "      <td>mean</td>\n",
       "      <td>NaN</td>\n",
       "      <td>NaN</td>\n",
       "      <td>47223.409500</td>\n",
       "      <td>5.92000</td>\n",
       "    </tr>\n",
       "    <tr>\n",
       "      <td>std</td>\n",
       "      <td>NaN</td>\n",
       "      <td>NaN</td>\n",
       "      <td>43381.496372</td>\n",
       "      <td>4.84883</td>\n",
       "    </tr>\n",
       "    <tr>\n",
       "      <td>min</td>\n",
       "      <td>NaN</td>\n",
       "      <td>NaN</td>\n",
       "      <td>10100.000000</td>\n",
       "      <td>2.00000</td>\n",
       "    </tr>\n",
       "    <tr>\n",
       "      <td>25%</td>\n",
       "      <td>NaN</td>\n",
       "      <td>NaN</td>\n",
       "      <td>20000.000000</td>\n",
       "      <td>3.00000</td>\n",
       "    </tr>\n",
       "    <tr>\n",
       "      <td>50%</td>\n",
       "      <td>NaN</td>\n",
       "      <td>NaN</td>\n",
       "      <td>30000.000000</td>\n",
       "      <td>4.00000</td>\n",
       "    </tr>\n",
       "    <tr>\n",
       "      <td>75%</td>\n",
       "      <td>NaN</td>\n",
       "      <td>NaN</td>\n",
       "      <td>58000.000000</td>\n",
       "      <td>6.00000</td>\n",
       "    </tr>\n",
       "    <tr>\n",
       "      <td>max</td>\n",
       "      <td>NaN</td>\n",
       "      <td>NaN</td>\n",
       "      <td>250000.000000</td>\n",
       "      <td>34.00000</td>\n",
       "    </tr>\n",
       "  </tbody>\n",
       "</table>\n",
       "</div>"
      ],
      "text/plain": [
       "                     首次投资时间             最近一次投资时间        总计投资总金额    总计投标总次数\n",
       "count                   200                  200     200.000000  200.00000\n",
       "unique                   24                   38            NaN        NaN\n",
       "top     2016-06-22 00:00:00  2016-06-25 00:00:00            NaN        NaN\n",
       "freq                     20                   25            NaN        NaN\n",
       "first   2016-06-06 00:00:00  2016-06-06 00:00:00            NaN        NaN\n",
       "last    2016-06-29 00:00:00  2016-07-18 00:00:00            NaN        NaN\n",
       "mean                    NaN                  NaN   47223.409500    5.92000\n",
       "std                     NaN                  NaN   43381.496372    4.84883\n",
       "min                     NaN                  NaN   10100.000000    2.00000\n",
       "25%                     NaN                  NaN   20000.000000    3.00000\n",
       "50%                     NaN                  NaN   30000.000000    4.00000\n",
       "75%                     NaN                  NaN   58000.000000    6.00000\n",
       "max                     NaN                  NaN  250000.000000   34.00000"
      ]
     },
     "execution_count": 5,
     "metadata": {},
     "output_type": "execute_result"
    }
   ],
   "source": [
    "data.describe(include = 'all')"
   ]
  },
  {
   "cell_type": "code",
   "execution_count": 6,
   "metadata": {},
   "outputs": [],
   "source": [
    "from datetime import datetime\n",
    "ex_date = datetime(2016,7,20)"
   ]
  },
  {
   "cell_type": "code",
   "execution_count": 7,
   "metadata": {},
   "outputs": [
    {
     "data": {
      "text/plain": [
       "用户编码\n",
       "45B3CCE7-957B-4D54-9626-6D62731D119B   24 days\n",
       "9921C535-75FC-4695-8551-32B8D717B4A5   24 days\n",
       "2F00D4E3-CC7D-4DB1-B210-6F095156C5B8   31 days\n",
       "150218D8-BF32-406D-A3A8-8A19CB1E85AA   34 days\n",
       "98C26D4A-708F-4334-B3D7-EDAE9FD240C8   23 days\n",
       "Name: 最近一次投资时间, dtype: timedelta64[ns]"
      ]
     },
     "execution_count": 7,
     "metadata": {},
     "output_type": "execute_result"
    }
   ],
   "source": [
    "Rdate = ex_date - data['最近一次投资时间']\n",
    "Rdate.head()"
   ]
  },
  {
   "cell_type": "code",
   "execution_count": 8,
   "metadata": {},
   "outputs": [
    {
     "data": {
      "text/plain": [
       "[24, 24, 31, 34, 23, 28, 39, 22, 38, 25]"
      ]
     },
     "execution_count": 8,
     "metadata": {},
     "output_type": "execute_result"
    }
   ],
   "source": [
    "R = []\n",
    "for i in Rdate:\n",
    "    R.append(i.days)\n",
    "R[:10]"
   ]
  },
  {
   "cell_type": "code",
   "execution_count": 9,
   "metadata": {},
   "outputs": [
    {
     "data": {
      "text/plain": [
       "[1, 1, 2, 2, 1, 1, 2, 1, 2, 1]"
      ]
     },
     "execution_count": 9,
     "metadata": {},
     "output_type": "execute_result"
    }
   ],
   "source": [
    "from math import ceil\n",
    "R_month = []\n",
    "for i in Rdate:\n",
    "    R_month.append(ceil(i.days/30))\n",
    "R_month[:10]"
   ]
  },
  {
   "cell_type": "code",
   "execution_count": 10,
   "metadata": {},
   "outputs": [
    {
     "data": {
      "text/plain": [
       "array([3. , 3. , 2. , 1.5, 3. , 3. , 1.5, 3. , 1. , 3. ])"
      ]
     },
     "execution_count": 10,
     "metadata": {},
     "output_type": "execute_result"
    }
   ],
   "source": [
    "F = (data['总计投标总次数'] / R_month).values\n",
    "F[:10]"
   ]
  },
  {
   "cell_type": "code",
   "execution_count": 11,
   "metadata": {},
   "outputs": [
    {
     "data": {
      "text/plain": [
       "array([ 20000.,  50000.,  54000.,  15000., 100000.,  15000.,  10000.,\n",
       "        16000.,   7500.,  20000.,  15000.])"
      ]
     },
     "execution_count": 11,
     "metadata": {},
     "output_type": "execute_result"
    }
   ],
   "source": [
    "M = (data['总计投资总金额'] / R_month).values\n",
    "M[:11]"
   ]
  },
  {
   "cell_type": "code",
   "execution_count": 12,
   "metadata": {},
   "outputs": [
    {
     "data": {
      "text/plain": [
       "200"
      ]
     },
     "execution_count": 12,
     "metadata": {},
     "output_type": "execute_result"
    }
   ],
   "source": [
    "len(R_month)"
   ]
  },
  {
   "cell_type": "code",
   "execution_count": 13,
   "metadata": {},
   "outputs": [
    {
     "data": {
      "text/html": [
       "<div>\n",
       "<style scoped>\n",
       "    .dataframe tbody tr th:only-of-type {\n",
       "        vertical-align: middle;\n",
       "    }\n",
       "\n",
       "    .dataframe tbody tr th {\n",
       "        vertical-align: top;\n",
       "    }\n",
       "\n",
       "    .dataframe thead th {\n",
       "        text-align: right;\n",
       "    }\n",
       "</style>\n",
       "<table border=\"1\" class=\"dataframe\">\n",
       "  <thead>\n",
       "    <tr style=\"text-align: right;\">\n",
       "      <th></th>\n",
       "      <th>R</th>\n",
       "      <th>F</th>\n",
       "      <th>M</th>\n",
       "    </tr>\n",
       "    <tr>\n",
       "      <th>用户编码</th>\n",
       "      <th></th>\n",
       "      <th></th>\n",
       "      <th></th>\n",
       "    </tr>\n",
       "  </thead>\n",
       "  <tbody>\n",
       "    <tr>\n",
       "      <td>45B3CCE7-957B-4D54-9626-6D62731D119B</td>\n",
       "      <td>1</td>\n",
       "      <td>3.0</td>\n",
       "      <td>20000.0</td>\n",
       "    </tr>\n",
       "    <tr>\n",
       "      <td>9921C535-75FC-4695-8551-32B8D717B4A5</td>\n",
       "      <td>1</td>\n",
       "      <td>3.0</td>\n",
       "      <td>50000.0</td>\n",
       "    </tr>\n",
       "    <tr>\n",
       "      <td>2F00D4E3-CC7D-4DB1-B210-6F095156C5B8</td>\n",
       "      <td>2</td>\n",
       "      <td>2.0</td>\n",
       "      <td>54000.0</td>\n",
       "    </tr>\n",
       "    <tr>\n",
       "      <td>150218D8-BF32-406D-A3A8-8A19CB1E85AA</td>\n",
       "      <td>2</td>\n",
       "      <td>1.5</td>\n",
       "      <td>15000.0</td>\n",
       "    </tr>\n",
       "    <tr>\n",
       "      <td>98C26D4A-708F-4334-B3D7-EDAE9FD240C8</td>\n",
       "      <td>1</td>\n",
       "      <td>3.0</td>\n",
       "      <td>100000.0</td>\n",
       "    </tr>\n",
       "  </tbody>\n",
       "</table>\n",
       "</div>"
      ],
      "text/plain": [
       "                                      R    F         M\n",
       "用户编码                                                  \n",
       "45B3CCE7-957B-4D54-9626-6D62731D119B  1  3.0   20000.0\n",
       "9921C535-75FC-4695-8551-32B8D717B4A5  1  3.0   50000.0\n",
       "2F00D4E3-CC7D-4DB1-B210-6F095156C5B8  2  2.0   54000.0\n",
       "150218D8-BF32-406D-A3A8-8A19CB1E85AA  2  1.5   15000.0\n",
       "98C26D4A-708F-4334-B3D7-EDAE9FD240C8  1  3.0  100000.0"
      ]
     },
     "execution_count": 13,
     "metadata": {},
     "output_type": "execute_result"
    }
   ],
   "source": [
    "from pandas import DataFrame\n",
    "data1 = DataFrame({'R': R_month,'F':list(F),'M':list(M)})\n",
    "data1.index = data.index\n",
    "data1.head()"
   ]
  },
  {
   "cell_type": "code",
   "execution_count": 14,
   "metadata": {},
   "outputs": [
    {
     "data": {
      "text/html": [
       "<div>\n",
       "<style scoped>\n",
       "    .dataframe tbody tr th:only-of-type {\n",
       "        vertical-align: middle;\n",
       "    }\n",
       "\n",
       "    .dataframe tbody tr th {\n",
       "        vertical-align: top;\n",
       "    }\n",
       "\n",
       "    .dataframe thead th {\n",
       "        text-align: right;\n",
       "    }\n",
       "</style>\n",
       "<table border=\"1\" class=\"dataframe\">\n",
       "  <thead>\n",
       "    <tr style=\"text-align: right;\">\n",
       "      <th></th>\n",
       "      <th>R</th>\n",
       "      <th>F</th>\n",
       "      <th>M</th>\n",
       "    </tr>\n",
       "    <tr>\n",
       "      <th>用户编码</th>\n",
       "      <th></th>\n",
       "      <th></th>\n",
       "      <th></th>\n",
       "    </tr>\n",
       "  </thead>\n",
       "  <tbody>\n",
       "    <tr>\n",
       "      <td>45B3CCE7-957B-4D54-9626-6D62731D119B</td>\n",
       "      <td>-0.529756</td>\n",
       "      <td>-0.495691</td>\n",
       "      <td>-0.534095</td>\n",
       "    </tr>\n",
       "    <tr>\n",
       "      <td>9921C535-75FC-4695-8551-32B8D717B4A5</td>\n",
       "      <td>-0.529756</td>\n",
       "      <td>-0.495691</td>\n",
       "      <td>0.150851</td>\n",
       "    </tr>\n",
       "    <tr>\n",
       "      <td>2F00D4E3-CC7D-4DB1-B210-6F095156C5B8</td>\n",
       "      <td>1.878225</td>\n",
       "      <td>-0.694166</td>\n",
       "      <td>0.242177</td>\n",
       "    </tr>\n",
       "    <tr>\n",
       "      <td>150218D8-BF32-406D-A3A8-8A19CB1E85AA</td>\n",
       "      <td>1.878225</td>\n",
       "      <td>-0.793404</td>\n",
       "      <td>-0.648253</td>\n",
       "    </tr>\n",
       "    <tr>\n",
       "      <td>98C26D4A-708F-4334-B3D7-EDAE9FD240C8</td>\n",
       "      <td>-0.529756</td>\n",
       "      <td>-0.495691</td>\n",
       "      <td>1.292427</td>\n",
       "    </tr>\n",
       "  </tbody>\n",
       "</table>\n",
       "</div>"
      ],
      "text/plain": [
       "                                             R         F         M\n",
       "用户编码                                                              \n",
       "45B3CCE7-957B-4D54-9626-6D62731D119B -0.529756 -0.495691 -0.534095\n",
       "9921C535-75FC-4695-8551-32B8D717B4A5 -0.529756 -0.495691  0.150851\n",
       "2F00D4E3-CC7D-4DB1-B210-6F095156C5B8  1.878225 -0.694166  0.242177\n",
       "150218D8-BF32-406D-A3A8-8A19CB1E85AA  1.878225 -0.793404 -0.648253\n",
       "98C26D4A-708F-4334-B3D7-EDAE9FD240C8 -0.529756 -0.495691  1.292427"
      ]
     },
     "execution_count": 14,
     "metadata": {},
     "output_type": "execute_result"
    }
   ],
   "source": [
    "sdata = (data1 - data1.mean())/data1.std()\n",
    "sdata.head()"
   ]
  },
  {
   "cell_type": "code",
   "execution_count": 15,
   "metadata": {},
   "outputs": [
    {
     "data": {
      "text/plain": [
       "array([0, 0, 1, 1, 0, 0, 1, 0, 1, 0, 0, 0, 0, 0, 0, 1, 1, 0, 0, 0, 1, 0,\n",
       "       1, 0, 2, 2, 1, 3, 1, 0, 0, 0, 1, 0, 0, 1, 0, 0, 1, 0, 0, 2, 1, 0,\n",
       "       1, 0, 0, 0, 0, 1, 1, 0, 0, 1, 1, 1, 0, 0, 1, 3, 0, 1, 1, 1, 1, 2,\n",
       "       0, 0, 0, 0, 1, 1, 1, 0, 1, 2, 0, 1, 0, 0, 0, 0, 0, 0, 0, 0, 2, 0,\n",
       "       0, 0, 3, 1, 0, 0, 0, 0, 0, 0, 0, 0, 3, 3, 3, 3, 0, 0, 0, 0, 0, 0,\n",
       "       0, 0, 0, 0, 0, 2, 2, 2, 0, 3, 0, 0, 0, 0, 0, 0, 0, 3, 0, 0, 1, 0,\n",
       "       3, 0, 0, 0, 1, 0, 0, 0, 1, 1, 0, 0, 0, 0, 0, 0, 0, 0, 0, 1, 0, 1,\n",
       "       3, 0, 3, 1, 0, 1, 0, 0, 1, 0, 0, 3, 0, 0, 0, 0, 0, 0, 1, 0, 0, 0,\n",
       "       3, 0, 0, 0, 1, 0, 0, 0, 0, 0, 0, 0, 0, 1, 0, 0, 0, 1, 0, 0, 0, 0,\n",
       "       0, 0])"
      ]
     },
     "execution_count": 15,
     "metadata": {},
     "output_type": "execute_result"
    }
   ],
   "source": [
    "from sklearn.cluster import KMeans\n",
    "kmodel = KMeans(n_clusters=4,n_jobs=4,max_iter=100,random_state=0)\n",
    "kmodel.fit(sdata)\n",
    "kmodel.labels_"
   ]
  },
  {
   "cell_type": "code",
   "execution_count": 23,
   "metadata": {},
   "outputs": [
    {
     "data": {
      "text/plain": [
       "0    133\n",
       "1     44\n",
       "3     14\n",
       "2      9\n",
       "dtype: int64"
      ]
     },
     "execution_count": 23,
     "metadata": {},
     "output_type": "execute_result"
    }
   ],
   "source": [
    "from pandas import Series\n",
    "Series(kmodel.labels_).value_counts()"
   ]
  },
  {
   "cell_type": "code",
   "execution_count": 26,
   "metadata": {},
   "outputs": [
    {
     "data": {
      "text/html": [
       "<div>\n",
       "<style scoped>\n",
       "    .dataframe tbody tr th:only-of-type {\n",
       "        vertical-align: middle;\n",
       "    }\n",
       "\n",
       "    .dataframe tbody tr th {\n",
       "        vertical-align: top;\n",
       "    }\n",
       "\n",
       "    .dataframe thead th {\n",
       "        text-align: right;\n",
       "    }\n",
       "</style>\n",
       "<table border=\"1\" class=\"dataframe\">\n",
       "  <thead>\n",
       "    <tr style=\"text-align: right;\">\n",
       "      <th></th>\n",
       "      <th>首次投资时间</th>\n",
       "      <th>最近一次投资时间</th>\n",
       "      <th>总计投资总金额</th>\n",
       "      <th>总计投标总次数</th>\n",
       "      <th>类别</th>\n",
       "    </tr>\n",
       "    <tr>\n",
       "      <th>用户编码</th>\n",
       "      <th></th>\n",
       "      <th></th>\n",
       "      <th></th>\n",
       "      <th></th>\n",
       "      <th></th>\n",
       "    </tr>\n",
       "  </thead>\n",
       "  <tbody>\n",
       "    <tr>\n",
       "      <td>45B3CCE7-957B-4D54-9626-6D62731D119B</td>\n",
       "      <td>2016-06-25</td>\n",
       "      <td>2016-06-26</td>\n",
       "      <td>20000.0</td>\n",
       "      <td>3</td>\n",
       "      <td>0</td>\n",
       "    </tr>\n",
       "    <tr>\n",
       "      <td>9921C535-75FC-4695-8551-32B8D717B4A5</td>\n",
       "      <td>2016-06-26</td>\n",
       "      <td>2016-06-26</td>\n",
       "      <td>50000.0</td>\n",
       "      <td>3</td>\n",
       "      <td>0</td>\n",
       "    </tr>\n",
       "    <tr>\n",
       "      <td>2F00D4E3-CC7D-4DB1-B210-6F095156C5B8</td>\n",
       "      <td>2016-06-13</td>\n",
       "      <td>2016-06-19</td>\n",
       "      <td>108000.0</td>\n",
       "      <td>4</td>\n",
       "      <td>1</td>\n",
       "    </tr>\n",
       "    <tr>\n",
       "      <td>150218D8-BF32-406D-A3A8-8A19CB1E85AA</td>\n",
       "      <td>2016-06-16</td>\n",
       "      <td>2016-06-16</td>\n",
       "      <td>30000.0</td>\n",
       "      <td>3</td>\n",
       "      <td>1</td>\n",
       "    </tr>\n",
       "    <tr>\n",
       "      <td>98C26D4A-708F-4334-B3D7-EDAE9FD240C8</td>\n",
       "      <td>2016-06-27</td>\n",
       "      <td>2016-06-27</td>\n",
       "      <td>100000.0</td>\n",
       "      <td>3</td>\n",
       "      <td>0</td>\n",
       "    </tr>\n",
       "  </tbody>\n",
       "</table>\n",
       "</div>"
      ],
      "text/plain": [
       "                                         首次投资时间   最近一次投资时间   总计投资总金额  总计投标总次数  \\\n",
       "用户编码                                                                            \n",
       "45B3CCE7-957B-4D54-9626-6D62731D119B 2016-06-25 2016-06-26   20000.0        3   \n",
       "9921C535-75FC-4695-8551-32B8D717B4A5 2016-06-26 2016-06-26   50000.0        3   \n",
       "2F00D4E3-CC7D-4DB1-B210-6F095156C5B8 2016-06-13 2016-06-19  108000.0        4   \n",
       "150218D8-BF32-406D-A3A8-8A19CB1E85AA 2016-06-16 2016-06-16   30000.0        3   \n",
       "98C26D4A-708F-4334-B3D7-EDAE9FD240C8 2016-06-27 2016-06-27  100000.0        3   \n",
       "\n",
       "                                      类别  \n",
       "用户编码                                      \n",
       "45B3CCE7-957B-4D54-9626-6D62731D119B   0  \n",
       "9921C535-75FC-4695-8551-32B8D717B4A5   0  \n",
       "2F00D4E3-CC7D-4DB1-B210-6F095156C5B8   1  \n",
       "150218D8-BF32-406D-A3A8-8A19CB1E85AA   1  \n",
       "98C26D4A-708F-4334-B3D7-EDAE9FD240C8   0  "
      ]
     },
     "execution_count": 26,
     "metadata": {},
     "output_type": "execute_result"
    }
   ],
   "source": [
    "data1_res = pd.concat([data, Series(kmodel.labels_,index=data.index)],axis=1)\n",
    "data1_res.columns = list(data.columns) + ['类别']\n",
    "data1_res.head()"
   ]
  },
  {
   "cell_type": "code",
   "execution_count": 28,
   "metadata": {},
   "outputs": [
    {
     "data": {
      "text/html": [
       "<div>\n",
       "<style scoped>\n",
       "    .dataframe tbody tr th:only-of-type {\n",
       "        vertical-align: middle;\n",
       "    }\n",
       "\n",
       "    .dataframe tbody tr th {\n",
       "        vertical-align: top;\n",
       "    }\n",
       "\n",
       "    .dataframe thead th {\n",
       "        text-align: right;\n",
       "    }\n",
       "</style>\n",
       "<table border=\"1\" class=\"dataframe\">\n",
       "  <thead>\n",
       "    <tr style=\"text-align: right;\">\n",
       "      <th></th>\n",
       "      <th>总计投资总金额</th>\n",
       "      <th>总计投标总次数</th>\n",
       "    </tr>\n",
       "    <tr>\n",
       "      <th>类别</th>\n",
       "      <th></th>\n",
       "      <th></th>\n",
       "    </tr>\n",
       "  </thead>\n",
       "  <tbody>\n",
       "    <tr>\n",
       "      <td>0</td>\n",
       "      <td>38387.585714</td>\n",
       "      <td>4.954887</td>\n",
       "    </tr>\n",
       "    <tr>\n",
       "      <td>1</td>\n",
       "      <td>34823.022727</td>\n",
       "      <td>3.840909</td>\n",
       "    </tr>\n",
       "    <tr>\n",
       "      <td>2</td>\n",
       "      <td>49129.888889</td>\n",
       "      <td>22.666667</td>\n",
       "    </tr>\n",
       "    <tr>\n",
       "      <td>3</td>\n",
       "      <td>168910.785714</td>\n",
       "      <td>10.857143</td>\n",
       "    </tr>\n",
       "  </tbody>\n",
       "</table>\n",
       "</div>"
      ],
      "text/plain": [
       "          总计投资总金额    总计投标总次数\n",
       "类别                          \n",
       "0    38387.585714   4.954887\n",
       "1    34823.022727   3.840909\n",
       "2    49129.888889  22.666667\n",
       "3   168910.785714  10.857143"
      ]
     },
     "execution_count": 28,
     "metadata": {},
     "output_type": "execute_result"
    }
   ],
   "source": [
    "data1_res.groupby(data1_res['类别']).mean()"
   ]
  },
  {
   "cell_type": "code",
   "execution_count": null,
   "metadata": {},
   "outputs": [],
   "source": []
  }
 ],
 "metadata": {
  "kernelspec": {
   "display_name": "Python 3",
   "language": "python",
   "name": "python3"
  },
  "language_info": {
   "codemirror_mode": {
    "name": "ipython",
    "version": 3
   },
   "file_extension": ".py",
   "mimetype": "text/x-python",
   "name": "python",
   "nbconvert_exporter": "python",
   "pygments_lexer": "ipython3",
   "version": "3.7.4"
  }
 },
 "nbformat": 4,
 "nbformat_minor": 2
}
